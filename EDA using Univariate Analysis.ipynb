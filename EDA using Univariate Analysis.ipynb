{
  "nbformat": 4,
  "nbformat_minor": 0,
  "metadata": {
    "colab": {
      "provenance": [],
      "authorship_tag": "ABX9TyPVwUXvWMygBgrPJPFee/tZ",
      "include_colab_link": true
    },
    "kernelspec": {
      "name": "python3",
      "display_name": "Python 3"
    },
    "language_info": {
      "name": "python"
    }
  },
  "cells": [
    {
      "cell_type": "markdown",
      "metadata": {
        "id": "view-in-github",
        "colab_type": "text"
      },
      "source": [
        "<a href=\"https://colab.research.google.com/github/Nabia-Zainab/Understand-the-Data/blob/main/EDA%20using%20Univariate%20Analysis.ipynb\" target=\"_parent\"><img src=\"https://colab.research.google.com/assets/colab-badge.svg\" alt=\"Open In Colab\"/></a>"
      ]
    },
    {
      "cell_type": "markdown",
      "source": [
        "# **Exploratory Data Analysis** (EDA)\n",
        "\n",
        "EDA is an analysis approach that identifies general patterns in the data. These patterns include outliers and features of the data that might be unexpected.\n",
        "\n",
        "**Methods of EDA**\n",
        "\n",
        "1. Univariate Analysis\n",
        "2. Bivariate Analysis\n",
        "3. Multivariate Analysis\n",
        "\n",
        "**Univariate Analysis:**\n",
        "\n",
        "Analysis of single variable / Column independently.\n",
        "\n",
        "![image.png](data:image/png;base64,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)\n",
        "\n",
        "**Bivariate Analysis:**\n",
        "\n",
        "It involves the analysis of two variables / Column, for the purpose of determining the empirical relationship between them. (Ek sath 2 column ka analysis)\n",
        "\n",
        "**Multivariate analysis**\n",
        "\n",
        "\n",
        "Multivariate analysis allows you to find patterns between variables.\n",
        "\n",
        "\n",
        "\n",
        "\n"
      ],
      "metadata": {
        "id": "opO2NMot-B_I"
      }
    },
    {
      "cell_type": "markdown",
      "source": [
        "# **Types of DATA**\n",
        "\n",
        "**Numerical Data** --> Height, Age, Weights, Prices\n",
        "\n",
        "**Categorical Data** --> Country, State, College, Gender"
      ],
      "metadata": {
        "id": "JeVhWl1vBbO7"
      }
    },
    {
      "cell_type": "code",
      "source": [
        "import pandas as pd\n",
        "\n",
        "df = pd.read_csv(\"Titanic.csv\")\n",
        "df.head()\n",
        "\n",
        "# Pclass --> Passenger Class (1 -> Elite Class, 2 -> Medium Class , 3 -> Normal Class)\n",
        "# SibSp --> Passenger travelling with Sibling or Spouse\n",
        "# Parch --> Passenger travelling with Parent or Chlid\n",
        "# Cabin --> Only 1 PClass have Cabin\n",
        "# Embarked --> Station (Southampton , Cherbourg , Queenstown)"
      ],
      "metadata": {
        "colab": {
          "base_uri": "https://localhost:8080/",
          "height": 466
        },
        "id": "0I_EhbdQBw0T",
        "outputId": "b3b645a0-eb93-4a4b-b2e3-58f8ed8bcea4"
      },
      "execution_count": 2,
      "outputs": [
        {
          "output_type": "execute_result",
          "data": {
            "text/plain": [
              "   PassengerId  Survived  Pclass  \\\n",
              "0            1         0       3   \n",
              "1            2         1       1   \n",
              "2            3         1       3   \n",
              "3            4         1       1   \n",
              "4            5         0       3   \n",
              "\n",
              "                                                Name     Sex   Age  SibSp  \\\n",
              "0                            Braund, Mr. Owen Harris    male  22.0      1   \n",
              "1  Cumings, Mrs. John Bradley (Florence Briggs Th...  female  38.0      1   \n",
              "2                             Heikkinen, Miss. Laina  female  26.0      0   \n",
              "3       Futrelle, Mrs. Jacques Heath (Lily May Peel)  female  35.0      1   \n",
              "4                           Allen, Mr. William Henry    male  35.0      0   \n",
              "\n",
              "   Parch            Ticket     Fare Cabin Embarked  \n",
              "0      0         A/5 21171   7.2500   NaN        S  \n",
              "1      0          PC 17599  71.2833   C85        C  \n",
              "2      0  STON/O2. 3101282   7.9250   NaN        S  \n",
              "3      0            113803  53.1000  C123        S  \n",
              "4      0            373450   8.0500   NaN        S  "
            ],
            "text/html": [
              "\n",
              "  <div id=\"df-2a8d4de4-06fd-4452-a0ab-b4c6168088d0\" class=\"colab-df-container\">\n",
              "    <div>\n",
              "<style scoped>\n",
              "    .dataframe tbody tr th:only-of-type {\n",
              "        vertical-align: middle;\n",
              "    }\n",
              "\n",
              "    .dataframe tbody tr th {\n",
              "        vertical-align: top;\n",
              "    }\n",
              "\n",
              "    .dataframe thead th {\n",
              "        text-align: right;\n",
              "    }\n",
              "</style>\n",
              "<table border=\"1\" class=\"dataframe\">\n",
              "  <thead>\n",
              "    <tr style=\"text-align: right;\">\n",
              "      <th></th>\n",
              "      <th>PassengerId</th>\n",
              "      <th>Survived</th>\n",
              "      <th>Pclass</th>\n",
              "      <th>Name</th>\n",
              "      <th>Sex</th>\n",
              "      <th>Age</th>\n",
              "      <th>SibSp</th>\n",
              "      <th>Parch</th>\n",
              "      <th>Ticket</th>\n",
              "      <th>Fare</th>\n",
              "      <th>Cabin</th>\n",
              "      <th>Embarked</th>\n",
              "    </tr>\n",
              "  </thead>\n",
              "  <tbody>\n",
              "    <tr>\n",
              "      <th>0</th>\n",
              "      <td>1</td>\n",
              "      <td>0</td>\n",
              "      <td>3</td>\n",
              "      <td>Braund, Mr. Owen Harris</td>\n",
              "      <td>male</td>\n",
              "      <td>22.0</td>\n",
              "      <td>1</td>\n",
              "      <td>0</td>\n",
              "      <td>A/5 21171</td>\n",
              "      <td>7.2500</td>\n",
              "      <td>NaN</td>\n",
              "      <td>S</td>\n",
              "    </tr>\n",
              "    <tr>\n",
              "      <th>1</th>\n",
              "      <td>2</td>\n",
              "      <td>1</td>\n",
              "      <td>1</td>\n",
              "      <td>Cumings, Mrs. John Bradley (Florence Briggs Th...</td>\n",
              "      <td>female</td>\n",
              "      <td>38.0</td>\n",
              "      <td>1</td>\n",
              "      <td>0</td>\n",
              "      <td>PC 17599</td>\n",
              "      <td>71.2833</td>\n",
              "      <td>C85</td>\n",
              "      <td>C</td>\n",
              "    </tr>\n",
              "    <tr>\n",
              "      <th>2</th>\n",
              "      <td>3</td>\n",
              "      <td>1</td>\n",
              "      <td>3</td>\n",
              "      <td>Heikkinen, Miss. Laina</td>\n",
              "      <td>female</td>\n",
              "      <td>26.0</td>\n",
              "      <td>0</td>\n",
              "      <td>0</td>\n",
              "      <td>STON/O2. 3101282</td>\n",
              "      <td>7.9250</td>\n",
              "      <td>NaN</td>\n",
              "      <td>S</td>\n",
              "    </tr>\n",
              "    <tr>\n",
              "      <th>3</th>\n",
              "      <td>4</td>\n",
              "      <td>1</td>\n",
              "      <td>1</td>\n",
              "      <td>Futrelle, Mrs. Jacques Heath (Lily May Peel)</td>\n",
              "      <td>female</td>\n",
              "      <td>35.0</td>\n",
              "      <td>1</td>\n",
              "      <td>0</td>\n",
              "      <td>113803</td>\n",
              "      <td>53.1000</td>\n",
              "      <td>C123</td>\n",
              "      <td>S</td>\n",
              "    </tr>\n",
              "    <tr>\n",
              "      <th>4</th>\n",
              "      <td>5</td>\n",
              "      <td>0</td>\n",
              "      <td>3</td>\n",
              "      <td>Allen, Mr. William Henry</td>\n",
              "      <td>male</td>\n",
              "      <td>35.0</td>\n",
              "      <td>0</td>\n",
              "      <td>0</td>\n",
              "      <td>373450</td>\n",
              "      <td>8.0500</td>\n",
              "      <td>NaN</td>\n",
              "      <td>S</td>\n",
              "    </tr>\n",
              "  </tbody>\n",
              "</table>\n",
              "</div>\n",
              "    <div class=\"colab-df-buttons\">\n",
              "\n",
              "  <div class=\"colab-df-container\">\n",
              "    <button class=\"colab-df-convert\" onclick=\"convertToInteractive('df-2a8d4de4-06fd-4452-a0ab-b4c6168088d0')\"\n",
              "            title=\"Convert this dataframe to an interactive table.\"\n",
              "            style=\"display:none;\">\n",
              "\n",
              "  <svg xmlns=\"http://www.w3.org/2000/svg\" height=\"24px\" viewBox=\"0 -960 960 960\">\n",
              "    <path d=\"M120-120v-720h720v720H120Zm60-500h600v-160H180v160Zm220 220h160v-160H400v160Zm0 220h160v-160H400v160ZM180-400h160v-160H180v160Zm440 0h160v-160H620v160ZM180-180h160v-160H180v160Zm440 0h160v-160H620v160Z\"/>\n",
              "  </svg>\n",
              "    </button>\n",
              "\n",
              "  <style>\n",
              "    .colab-df-container {\n",
              "      display:flex;\n",
              "      gap: 12px;\n",
              "    }\n",
              "\n",
              "    .colab-df-convert {\n",
              "      background-color: #E8F0FE;\n",
              "      border: none;\n",
              "      border-radius: 50%;\n",
              "      cursor: pointer;\n",
              "      display: none;\n",
              "      fill: #1967D2;\n",
              "      height: 32px;\n",
              "      padding: 0 0 0 0;\n",
              "      width: 32px;\n",
              "    }\n",
              "\n",
              "    .colab-df-convert:hover {\n",
              "      background-color: #E2EBFA;\n",
              "      box-shadow: 0px 1px 2px rgba(60, 64, 67, 0.3), 0px 1px 3px 1px rgba(60, 64, 67, 0.15);\n",
              "      fill: #174EA6;\n",
              "    }\n",
              "\n",
              "    .colab-df-buttons div {\n",
              "      margin-bottom: 4px;\n",
              "    }\n",
              "\n",
              "    [theme=dark] .colab-df-convert {\n",
              "      background-color: #3B4455;\n",
              "      fill: #D2E3FC;\n",
              "    }\n",
              "\n",
              "    [theme=dark] .colab-df-convert:hover {\n",
              "      background-color: #434B5C;\n",
              "      box-shadow: 0px 1px 3px 1px rgba(0, 0, 0, 0.15);\n",
              "      filter: drop-shadow(0px 1px 2px rgba(0, 0, 0, 0.3));\n",
              "      fill: #FFFFFF;\n",
              "    }\n",
              "  </style>\n",
              "\n",
              "    <script>\n",
              "      const buttonEl =\n",
              "        document.querySelector('#df-2a8d4de4-06fd-4452-a0ab-b4c6168088d0 button.colab-df-convert');\n",
              "      buttonEl.style.display =\n",
              "        google.colab.kernel.accessAllowed ? 'block' : 'none';\n",
              "\n",
              "      async function convertToInteractive(key) {\n",
              "        const element = document.querySelector('#df-2a8d4de4-06fd-4452-a0ab-b4c6168088d0');\n",
              "        const dataTable =\n",
              "          await google.colab.kernel.invokeFunction('convertToInteractive',\n",
              "                                                    [key], {});\n",
              "        if (!dataTable) return;\n",
              "\n",
              "        const docLinkHtml = 'Like what you see? Visit the ' +\n",
              "          '<a target=\"_blank\" href=https://colab.research.google.com/notebooks/data_table.ipynb>data table notebook</a>'\n",
              "          + ' to learn more about interactive tables.';\n",
              "        element.innerHTML = '';\n",
              "        dataTable['output_type'] = 'display_data';\n",
              "        await google.colab.output.renderOutput(dataTable, element);\n",
              "        const docLink = document.createElement('div');\n",
              "        docLink.innerHTML = docLinkHtml;\n",
              "        element.appendChild(docLink);\n",
              "      }\n",
              "    </script>\n",
              "  </div>\n",
              "\n",
              "\n",
              "<div id=\"df-8de66a52-e6b1-48dc-92fe-2ae9e91b71dd\">\n",
              "  <button class=\"colab-df-quickchart\" onclick=\"quickchart('df-8de66a52-e6b1-48dc-92fe-2ae9e91b71dd')\"\n",
              "            title=\"Suggest charts\"\n",
              "            style=\"display:none;\">\n",
              "\n",
              "<svg xmlns=\"http://www.w3.org/2000/svg\" height=\"24px\"viewBox=\"0 0 24 24\"\n",
              "     width=\"24px\">\n",
              "    <g>\n",
              "        <path d=\"M19 3H5c-1.1 0-2 .9-2 2v14c0 1.1.9 2 2 2h14c1.1 0 2-.9 2-2V5c0-1.1-.9-2-2-2zM9 17H7v-7h2v7zm4 0h-2V7h2v10zm4 0h-2v-4h2v4z\"/>\n",
              "    </g>\n",
              "</svg>\n",
              "  </button>\n",
              "\n",
              "<style>\n",
              "  .colab-df-quickchart {\n",
              "      --bg-color: #E8F0FE;\n",
              "      --fill-color: #1967D2;\n",
              "      --hover-bg-color: #E2EBFA;\n",
              "      --hover-fill-color: #174EA6;\n",
              "      --disabled-fill-color: #AAA;\n",
              "      --disabled-bg-color: #DDD;\n",
              "  }\n",
              "\n",
              "  [theme=dark] .colab-df-quickchart {\n",
              "      --bg-color: #3B4455;\n",
              "      --fill-color: #D2E3FC;\n",
              "      --hover-bg-color: #434B5C;\n",
              "      --hover-fill-color: #FFFFFF;\n",
              "      --disabled-bg-color: #3B4455;\n",
              "      --disabled-fill-color: #666;\n",
              "  }\n",
              "\n",
              "  .colab-df-quickchart {\n",
              "    background-color: var(--bg-color);\n",
              "    border: none;\n",
              "    border-radius: 50%;\n",
              "    cursor: pointer;\n",
              "    display: none;\n",
              "    fill: var(--fill-color);\n",
              "    height: 32px;\n",
              "    padding: 0;\n",
              "    width: 32px;\n",
              "  }\n",
              "\n",
              "  .colab-df-quickchart:hover {\n",
              "    background-color: var(--hover-bg-color);\n",
              "    box-shadow: 0 1px 2px rgba(60, 64, 67, 0.3), 0 1px 3px 1px rgba(60, 64, 67, 0.15);\n",
              "    fill: var(--button-hover-fill-color);\n",
              "  }\n",
              "\n",
              "  .colab-df-quickchart-complete:disabled,\n",
              "  .colab-df-quickchart-complete:disabled:hover {\n",
              "    background-color: var(--disabled-bg-color);\n",
              "    fill: var(--disabled-fill-color);\n",
              "    box-shadow: none;\n",
              "  }\n",
              "\n",
              "  .colab-df-spinner {\n",
              "    border: 2px solid var(--fill-color);\n",
              "    border-color: transparent;\n",
              "    border-bottom-color: var(--fill-color);\n",
              "    animation:\n",
              "      spin 1s steps(1) infinite;\n",
              "  }\n",
              "\n",
              "  @keyframes spin {\n",
              "    0% {\n",
              "      border-color: transparent;\n",
              "      border-bottom-color: var(--fill-color);\n",
              "      border-left-color: var(--fill-color);\n",
              "    }\n",
              "    20% {\n",
              "      border-color: transparent;\n",
              "      border-left-color: var(--fill-color);\n",
              "      border-top-color: var(--fill-color);\n",
              "    }\n",
              "    30% {\n",
              "      border-color: transparent;\n",
              "      border-left-color: var(--fill-color);\n",
              "      border-top-color: var(--fill-color);\n",
              "      border-right-color: var(--fill-color);\n",
              "    }\n",
              "    40% {\n",
              "      border-color: transparent;\n",
              "      border-right-color: var(--fill-color);\n",
              "      border-top-color: var(--fill-color);\n",
              "    }\n",
              "    60% {\n",
              "      border-color: transparent;\n",
              "      border-right-color: var(--fill-color);\n",
              "    }\n",
              "    80% {\n",
              "      border-color: transparent;\n",
              "      border-right-color: var(--fill-color);\n",
              "      border-bottom-color: var(--fill-color);\n",
              "    }\n",
              "    90% {\n",
              "      border-color: transparent;\n",
              "      border-bottom-color: var(--fill-color);\n",
              "    }\n",
              "  }\n",
              "</style>\n",
              "\n",
              "  <script>\n",
              "    async function quickchart(key) {\n",
              "      const quickchartButtonEl =\n",
              "        document.querySelector('#' + key + ' button');\n",
              "      quickchartButtonEl.disabled = true;  // To prevent multiple clicks.\n",
              "      quickchartButtonEl.classList.add('colab-df-spinner');\n",
              "      try {\n",
              "        const charts = await google.colab.kernel.invokeFunction(\n",
              "            'suggestCharts', [key], {});\n",
              "      } catch (error) {\n",
              "        console.error('Error during call to suggestCharts:', error);\n",
              "      }\n",
              "      quickchartButtonEl.classList.remove('colab-df-spinner');\n",
              "      quickchartButtonEl.classList.add('colab-df-quickchart-complete');\n",
              "    }\n",
              "    (() => {\n",
              "      let quickchartButtonEl =\n",
              "        document.querySelector('#df-8de66a52-e6b1-48dc-92fe-2ae9e91b71dd button');\n",
              "      quickchartButtonEl.style.display =\n",
              "        google.colab.kernel.accessAllowed ? 'block' : 'none';\n",
              "    })();\n",
              "  </script>\n",
              "</div>\n",
              "\n",
              "    </div>\n",
              "  </div>\n"
            ],
            "application/vnd.google.colaboratory.intrinsic+json": {
              "type": "dataframe",
              "summary": "{\n  \"name\": \"# Embarked --> Station (Southampton , Cherbourg , Queenstown)\",\n  \"rows\": 5,\n  \"fields\": [\n    {\n      \"column\": \"PassengerId\",\n      \"properties\": {\n        \"dtype\": \"number\",\n        \"std\": 1,\n        \"min\": 1,\n        \"max\": 5,\n        \"num_unique_values\": 5,\n        \"samples\": [\n          2,\n          5,\n          3\n        ],\n        \"semantic_type\": \"\",\n        \"description\": \"\"\n      }\n    },\n    {\n      \"column\": \"Survived\",\n      \"properties\": {\n        \"dtype\": \"number\",\n        \"std\": 0,\n        \"min\": 0,\n        \"max\": 1,\n        \"num_unique_values\": 2,\n        \"samples\": [\n          1,\n          0\n        ],\n        \"semantic_type\": \"\",\n        \"description\": \"\"\n      }\n    },\n    {\n      \"column\": \"Pclass\",\n      \"properties\": {\n        \"dtype\": \"number\",\n        \"std\": 1,\n        \"min\": 1,\n        \"max\": 3,\n        \"num_unique_values\": 2,\n        \"samples\": [\n          1,\n          3\n        ],\n        \"semantic_type\": \"\",\n        \"description\": \"\"\n      }\n    },\n    {\n      \"column\": \"Name\",\n      \"properties\": {\n        \"dtype\": \"string\",\n        \"num_unique_values\": 5,\n        \"samples\": [\n          \"Cumings, Mrs. John Bradley (Florence Briggs Thayer)\",\n          \"Allen, Mr. William Henry\"\n        ],\n        \"semantic_type\": \"\",\n        \"description\": \"\"\n      }\n    },\n    {\n      \"column\": \"Sex\",\n      \"properties\": {\n        \"dtype\": \"category\",\n        \"num_unique_values\": 2,\n        \"samples\": [\n          \"female\",\n          \"male\"\n        ],\n        \"semantic_type\": \"\",\n        \"description\": \"\"\n      }\n    },\n    {\n      \"column\": \"Age\",\n      \"properties\": {\n        \"dtype\": \"number\",\n        \"std\": 6.833739825307955,\n        \"min\": 22.0,\n        \"max\": 38.0,\n        \"num_unique_values\": 4,\n        \"samples\": [\n          38.0,\n          35.0\n        ],\n        \"semantic_type\": \"\",\n        \"description\": \"\"\n      }\n    },\n    {\n      \"column\": \"SibSp\",\n      \"properties\": {\n        \"dtype\": \"number\",\n        \"std\": 0,\n        \"min\": 0,\n        \"max\": 1,\n        \"num_unique_values\": 2,\n        \"samples\": [\n          0,\n          1\n        ],\n        \"semantic_type\": \"\",\n        \"description\": \"\"\n      }\n    },\n    {\n      \"column\": \"Parch\",\n      \"properties\": {\n        \"dtype\": \"number\",\n        \"std\": 0,\n        \"min\": 0,\n        \"max\": 0,\n        \"num_unique_values\": 1,\n        \"samples\": [\n          0\n        ],\n        \"semantic_type\": \"\",\n        \"description\": \"\"\n      }\n    },\n    {\n      \"column\": \"Ticket\",\n      \"properties\": {\n        \"dtype\": \"string\",\n        \"num_unique_values\": 5,\n        \"samples\": [\n          \"PC 17599\"\n        ],\n        \"semantic_type\": \"\",\n        \"description\": \"\"\n      }\n    },\n    {\n      \"column\": \"Fare\",\n      \"properties\": {\n        \"dtype\": \"number\",\n        \"std\": 30.5100288352535,\n        \"min\": 7.25,\n        \"max\": 71.2833,\n        \"num_unique_values\": 5,\n        \"samples\": [\n          71.2833\n        ],\n        \"semantic_type\": \"\",\n        \"description\": \"\"\n      }\n    },\n    {\n      \"column\": \"Cabin\",\n      \"properties\": {\n        \"dtype\": \"category\",\n        \"num_unique_values\": 2,\n        \"samples\": [\n          \"C123\"\n        ],\n        \"semantic_type\": \"\",\n        \"description\": \"\"\n      }\n    },\n    {\n      \"column\": \"Embarked\",\n      \"properties\": {\n        \"dtype\": \"category\",\n        \"num_unique_values\": 2,\n        \"samples\": [\n          \"C\"\n        ],\n        \"semantic_type\": \"\",\n        \"description\": \"\"\n      }\n    }\n  ]\n}"
            }
          },
          "metadata": {},
          "execution_count": 2
        }
      ]
    },
    {
      "cell_type": "markdown",
      "source": [
        "# **Univariate Analysis**\n",
        "\n",
        "---\n",
        "---\n",
        "\n",
        "Focus on plotting Graphs.\n",
        "\n",
        "Get hidden information through Data Visualization.\n",
        "\n"
      ],
      "metadata": {
        "id": "92c2h-QMC2Vs"
      }
    },
    {
      "cell_type": "markdown",
      "source": [
        "# **Analyze Categorical Data**\n",
        "\n",
        "1. Survived\n",
        "2. Pclass\n",
        "3. Sex\n",
        "4. SipSp / Parch treated as CD (NLP)\n",
        "5. Embarked"
      ],
      "metadata": {
        "id": "g4i9_EkqDn6i"
      }
    },
    {
      "cell_type": "markdown",
      "source": [
        "# **a. Countplot**\n",
        "\n",
        "Categorical Column --> Categories --> frequency Count\n",
        "(Each Category count)"
      ],
      "metadata": {
        "id": "-PhdaIvrGU1R"
      }
    },
    {
      "cell_type": "code",
      "source": [
        "import seaborn as sns\n",
        "\n",
        "# How many survived or How many die ?\n",
        "# sns.countplot(df['Survived'])\n",
        "\n",
        "# df['Survived'].value_counts()\n",
        "# df['Survived'].value_counts().plot(kind='bar')\n",
        "\n",
        "# Sex\n",
        "# sns.countplot(df['Sex'])\n",
        "\n",
        "# Embarked\n",
        "sns.countplot(df['Embarked'])"
      ],
      "metadata": {
        "colab": {
          "base_uri": "https://localhost:8080/",
          "height": 466
        },
        "id": "oLC-Y2tIHJeG",
        "outputId": "532fdc99-2eae-406c-e6fa-6432b9f20750"
      },
      "execution_count": 13,
      "outputs": [
        {
          "output_type": "execute_result",
          "data": {
            "text/plain": [
              "<Axes: xlabel='count', ylabel='Embarked'>"
            ]
          },
          "metadata": {},
          "execution_count": 13
        },
        {
          "output_type": "display_data",
          "data": {
            "text/plain": [
              "<Figure size 640x480 with 1 Axes>"
            ],
            "image/png": "[encoded data removed]"
          },
          "metadata": {}
        }
      ]
    },
    {
      "cell_type": "markdown",
      "source": [
        "# **PieChart**\n",
        "You need the Same information in Percentage"
      ],
      "metadata": {
        "id": "NOoPwDlIKH5e"
      }
    },
    {
      "cell_type": "code",
      "source": [
        "# df['Survived'].value_counts().plot(kind='pie', autopct='%.2f')\n",
        "df['Pclass'].value_counts().plot(kind='pie', autopct='%.2f')"
      ],
      "metadata": {
        "colab": {
          "base_uri": "https://localhost:8080/",
          "height": 423
        },
        "id": "d72GocExKzh1",
        "outputId": "0b06f86e-26c7-4155-905c-cea84b4fdfb5"
      },
      "execution_count": 16,
      "outputs": [
        {
          "output_type": "execute_result",
          "data": {
            "text/plain": [
              "<Axes: ylabel='count'>"
            ]
          },
          "metadata": {},
          "execution_count": 16
        },
        {
          "output_type": "display_data",
          "data": {
            "text/plain": [
              "<Figure size 640x480 with 1 Axes>"
            ],
            "image/png": "[encoded data removed]"
          },
          "metadata": {}
        }
      ]
    },
    {
      "cell_type": "markdown",
      "source": [
        "# **Analyze Numerical Data**"
      ],
      "metadata": {
        "id": "lAuTfX1mL_qN"
      }
    },
    {
      "cell_type": "markdown",
      "source": [
        "# **Histogram**\n",
        "\n",
        "Shows the frequency of numerical data."
      ],
      "metadata": {
        "id": "nGgqmzLvMG6a"
      }
    },
    {
      "cell_type": "code",
      "source": [
        "import matplotlib.pyplot as plt\n",
        "plt.hist(df['Age'])"
      ],
      "metadata": {
        "colab": {
          "base_uri": "https://localhost:8080/",
          "height": 499
        },
        "id": "5L-eEhYaMtfC",
        "outputId": "18fd5848-6cfa-450b-9aa8-a9bd97853dec"
      },
      "execution_count": 21,
      "outputs": [
        {
          "output_type": "execute_result",
          "data": {
            "text/plain": [
              "(array([ 54.,  46., 177., 169., 118.,  70.,  45.,  24.,   9.,   2.]),\n",
              " array([ 0.42 ,  8.378, 16.336, 24.294, 32.252, 40.21 , 48.168, 56.126,\n",
              "        64.084, 72.042, 80.   ]),\n",
              " <BarContainer object of 10 artists>)"
            ]
          },
          "metadata": {},
          "execution_count": 21
        },
        {
          "output_type": "display_data",
          "data": {
            "text/plain": [
              "<Figure size 640x480 with 1 Axes>"
            ],
            "image/png": "[encoded data removed]"
          },
          "metadata": {}
        }
      ]
    },
    {
      "cell_type": "markdown",
      "source": [
        "# **Distplot**\n",
        "\n",
        "Improvement in Histogram\n"
      ],
      "metadata": {
        "id": "I-BqA6ruU0PY"
      }
    },
    {
      "cell_type": "code",
      "source": [
        "sns.distplot(df['Age'])\n",
        "\n",
        "# Curve --> KDE (Kernal density estimation)\n",
        "# KDE touches top of Histogram --> tells the data distributions (Probablity density function PDF)"
      ],
      "metadata": {
        "colab": {
          "base_uri": "https://localhost:8080/",
          "height": 657
        },
        "id": "HbohgmtoU92N",
        "outputId": "0e3c0eff-e0da-470f-f3e1-85547b88f1c6"
      },
      "execution_count": 22,
      "outputs": [
        {
          "output_type": "stream",
          "name": "stderr",
          "text": [
            "<ipython-input-22-0fafe04ea3f6>:1: UserWarning: \n",
            "\n",
            "`distplot` is a deprecated function and will be removed in seaborn v0.14.0.\n",
            "\n",
            "Please adapt your code to use either `displot` (a figure-level function with\n",
            "similar flexibility) or `histplot` (an axes-level function for histograms).\n",
            "\n",
            "For a guide to updating your code to use the new functions, please see\n",
            "https://gist.github.com/mwaskom/de44147ed2974457ad6372750bbe5751\n",
            "\n",
            "  sns.distplot(df['Age'])\n"
          ]
        },
        {
          "output_type": "execute_result",
          "data": {
            "text/plain": [
              "<Axes: xlabel='Age', ylabel='Density'>"
            ]
          },
          "metadata": {},
          "execution_count": 22
        },
        {
          "output_type": "display_data",
          "data": {
            "text/plain": [
              "<Figure size 640x480 with 1 Axes>"
            ],
            "image/png": "[encoded data removed]"
          },
          "metadata": {}
        }
      ]
    },
    {
      "cell_type": "code",
      "source": [
        "df['Age'].min()\n",
        "df['Age'].mean()\n",
        "df['Age'].skew()"
      ],
      "metadata": {
        "colab": {
          "base_uri": "https://localhost:8080/"
        },
        "id": "SAX1IsJZaTfw",
        "outputId": "3217884a-f8af-4714-8102-1f2bef426c65"
      },
      "execution_count": 25,
      "outputs": [
        {
          "output_type": "execute_result",
          "data": {
            "text/plain": [
              "0.38910778230082704"
            ]
          },
          "metadata": {},
          "execution_count": 25
        }
      ]
    }
  ]
}